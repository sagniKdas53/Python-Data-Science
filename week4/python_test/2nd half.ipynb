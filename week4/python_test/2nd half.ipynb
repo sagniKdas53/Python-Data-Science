{
 "cells": [
  {
   "cell_type": "code",
   "execution_count": 1,
   "metadata": {},
   "outputs": [],
   "source": [
    "import pandas as pd\n",
    "import numpy as np\n",
    "import seaborn as sns\n",
    "from sklearn.model_selection import train_test_split\n",
    "from sklearn.linear_model import LogisticRegression\n",
    "from sklearn.metrics import accuracy_score,confusion_matrix"
   ]
  },
  {
   "cell_type": "code",
   "execution_count": 2,
   "metadata": {},
   "outputs": [],
   "source": [
    "data1st = pd.read_csv('bank_train.csv')\n",
    "data2st = pd.read_csv('bank_train (1).csv')"
   ]
  },
  {
   "cell_type": "code",
   "execution_count": 3,
   "metadata": {},
   "outputs": [
    {
     "data": {
      "text/plain": [
       "True"
      ]
     },
     "execution_count": 3,
     "metadata": {},
     "output_type": "execute_result"
    }
   ],
   "source": [
    "data1st.equals(data2st)"
   ]
  },
  {
   "cell_type": "code",
   "execution_count": 4,
   "metadata": {},
   "outputs": [],
   "source": [
    "data = data2st.copy(deep=True)"
   ]
  },
  {
   "cell_type": "code",
   "execution_count": 5,
   "metadata": {},
   "outputs": [
    {
     "name": "stdout",
     "output_type": "stream",
     "text": [
      "<class 'pandas.core.frame.DataFrame'>\n",
      "RangeIndex: 4466 entries, 0 to 4465\n",
      "Data columns (total 17 columns):\n",
      " #   Column     Non-Null Count  Dtype  \n",
      "---  ------     --------------  -----  \n",
      " 0   age        4466 non-null   int64  \n",
      " 1   job        4466 non-null   object \n",
      " 2   marital    4466 non-null   object \n",
      " 3   education  4466 non-null   object \n",
      " 4   default    4466 non-null   object \n",
      " 5   balance    4465 non-null   float64\n",
      " 6   housing    4466 non-null   object \n",
      " 7   loan       4466 non-null   object \n",
      " 8   contact    4466 non-null   object \n",
      " 9   day        4466 non-null   int64  \n",
      " 10  month      4466 non-null   object \n",
      " 11  duration   4466 non-null   int64  \n",
      " 12  campaign   4466 non-null   int64  \n",
      " 13  pdays      4466 non-null   int64  \n",
      " 14  previous   4466 non-null   int64  \n",
      " 15  poutcome   4465 non-null   object \n",
      " 16  deposit    4466 non-null   object \n",
      "dtypes: float64(1), int64(6), object(10)\n",
      "memory usage: 593.3+ KB\n",
      "None\n"
     ]
    }
   ],
   "source": [
    "print(data.info())"
   ]
  },
  {
   "cell_type": "code",
   "execution_count": 6,
   "metadata": {},
   "outputs": [
    {
     "name": "stdout",
     "output_type": "stream",
     "text": [
      "age          0\n",
      "job          0\n",
      "marital      0\n",
      "education    0\n",
      "default      0\n",
      "balance      1\n",
      "housing      0\n",
      "loan         0\n",
      "contact      0\n",
      "day          0\n",
      "month        0\n",
      "duration     0\n",
      "campaign     0\n",
      "pdays        0\n",
      "previous     0\n",
      "poutcome     1\n",
      "deposit      0\n",
      "dtype: int64\n"
     ]
    }
   ],
   "source": [
    "print(data.isnull().sum())"
   ]
  },
  {
   "cell_type": "code",
   "execution_count": 7,
   "metadata": {},
   "outputs": [
    {
     "name": "stdout",
     "output_type": "stream",
     "text": [
      "      age          job  marital  education default  balance housing loan  \\\n",
      "3105   36     services   single  secondary      no      NaN      no   no   \n",
      "3537   44  blue-collar  married  secondary      no    294.0     yes   no   \n",
      "\n",
      "      contact  day month  duration  campaign  pdays  previous poutcome deposit  \n",
      "3105  unknown   17   jun       256         9     -1         0  unknown      no  \n",
      "3537  unknown   19   may        66         2     -1         0      NaN      no  \n"
     ]
    }
   ],
   "source": [
    "missing = data[data.isnull().any(axis=1)]\n",
    "print(missing)"
   ]
  },
  {
   "cell_type": "code",
   "execution_count": 8,
   "metadata": {
    "scrolled": true
   },
   "outputs": [
    {
     "name": "stdout",
     "output_type": "stream",
     "text": [
      "               age       balance          day     duration     campaign  \\\n",
      "count  4464.000000   4464.000000  4464.000000  4464.000000  4464.000000   \n",
      "mean     41.100582   1484.601030    15.739471   371.183468     2.483423   \n",
      "std      11.907909   3254.226206     8.449796   346.947767     2.632412   \n",
      "min      18.000000  -3058.000000     1.000000     3.000000     1.000000   \n",
      "25%      32.000000    107.000000     8.000000   137.000000     1.000000   \n",
      "50%      38.000000    539.000000    16.000000   256.000000     2.000000   \n",
      "75%      49.000000   1728.000000    22.000000   485.250000     3.000000   \n",
      "max      93.000000  81204.000000    31.000000  3284.000000    43.000000   \n",
      "\n",
      "             pdays     previous  \n",
      "count  4464.000000  4464.000000  \n",
      "mean     52.905018     0.867384  \n",
      "std     111.165774     2.381660  \n",
      "min      -1.000000     0.000000  \n",
      "25%      -1.000000     0.000000  \n",
      "50%      -1.000000     0.000000  \n",
      "75%      66.250000     1.000000  \n",
      "max     828.000000    41.000000  \n"
     ]
    }
   ],
   "source": [
    "data2 = data.dropna(axis=0)\n",
    "print(data2.describe())"
   ]
  },
  {
   "cell_type": "code",
   "execution_count": 9,
   "metadata": {},
   "outputs": [
    {
     "name": "stdout",
     "output_type": "stream",
     "text": [
      "deposit          no       yes\n",
      "education                    \n",
      "primary    0.592965  0.407035\n",
      "secondary  0.565177  0.434823\n",
      "tertiary   0.449535  0.550465\n",
      "unknown    0.494737  0.505263\n",
      "All        0.526882  0.473118\n"
     ]
    }
   ],
   "source": [
    "eduVSdep = pd.crosstab(index = data2['education'],\n",
    "                      columns = data2['deposit'],\n",
    "                      margins = True,\n",
    "                      normalize = 'index')\n",
    "\n",
    "print(eduVSdep)"
   ]
  },
  {
   "cell_type": "code",
   "execution_count": 10,
   "metadata": {},
   "outputs": [
    {
     "name": "stdout",
     "output_type": "stream",
     "text": [
      "education   primary  secondary  tertiary   unknown\n",
      "deposit                                           \n",
      "no         0.150510   0.521684  0.287840  0.039966\n",
      "yes        0.115057   0.446970  0.392519  0.045455\n",
      "All        0.133737   0.486335  0.337366  0.042563\n"
     ]
    }
   ],
   "source": [
    "depVSedu = pd.crosstab(index = data2['deposit'],\n",
    "                      columns = data2['education'],\n",
    "                      margins = True,\n",
    "                      normalize = 'index')\n",
    "\n",
    "print(depVSedu)"
   ]
  },
  {
   "cell_type": "code",
   "execution_count": 11,
   "metadata": {},
   "outputs": [
    {
     "data": {
      "image/png": "[encoded data removed]",
      "text/plain": [
       "<Figure size 432x288 with 1 Axes>"
      ]
     },
     "metadata": {
      "needs_background": "light"
     },
     "output_type": "display_data"
    }
   ],
   "source": [
    "marr = sns.countplot(x='marital',hue='deposit',data=data2)"
   ]
  },
  {
   "cell_type": "code",
   "execution_count": 12,
   "metadata": {},
   "outputs": [
    {
     "data": {
      "text/plain": [
       "Index(['age', 'job', 'marital', 'education', 'default', 'balance', 'housing',\n",
       "       'loan', 'contact', 'day', 'month', 'duration', 'campaign', 'pdays',\n",
       "       'previous', 'poutcome', 'deposit'],\n",
       "      dtype='object')"
      ]
     },
     "execution_count": 12,
     "metadata": {},
     "output_type": "execute_result"
    }
   ],
   "source": [
    "data2.columns"
   ]
  },
  {
   "cell_type": "code",
   "execution_count": 13,
   "metadata": {},
   "outputs": [
    {
     "data": {
      "text/html": [
       "<div>\n",
       "<style scoped>\n",
       "    .dataframe tbody tr th:only-of-type {\n",
       "        vertical-align: middle;\n",
       "    }\n",
       "\n",
       "    .dataframe tbody tr th {\n",
       "        vertical-align: top;\n",
       "    }\n",
       "\n",
       "    .dataframe thead th {\n",
       "        text-align: right;\n",
       "    }\n",
       "</style>\n",
       "<table border=\"1\" class=\"dataframe\">\n",
       "  <thead>\n",
       "    <tr style=\"text-align: right;\">\n",
       "      <th>deposit</th>\n",
       "      <th>no</th>\n",
       "      <th>yes</th>\n",
       "    </tr>\n",
       "    <tr>\n",
       "      <th>housing</th>\n",
       "      <th></th>\n",
       "      <th></th>\n",
       "    </tr>\n",
       "  </thead>\n",
       "  <tbody>\n",
       "    <tr>\n",
       "      <th>no</th>\n",
       "      <td>0.436668</td>\n",
       "      <td>0.563332</td>\n",
       "    </tr>\n",
       "    <tr>\n",
       "      <th>yes</th>\n",
       "      <td>0.625293</td>\n",
       "      <td>0.374707</td>\n",
       "    </tr>\n",
       "    <tr>\n",
       "      <th>All</th>\n",
       "      <td>0.526882</td>\n",
       "      <td>0.473118</td>\n",
       "    </tr>\n",
       "  </tbody>\n",
       "</table>\n",
       "</div>"
      ],
      "text/plain": [
       "deposit        no       yes\n",
       "housing                    \n",
       "no       0.436668  0.563332\n",
       "yes      0.625293  0.374707\n",
       "All      0.526882  0.473118"
      ]
     },
     "execution_count": 13,
     "metadata": {},
     "output_type": "execute_result"
    }
   ],
   "source": [
    "houVSdep = pd.crosstab(index = data2['housing'],\n",
    "                      columns = data2['deposit'],\n",
    "                      margins = True,\n",
    "                      normalize = 'index')\n",
    "houVSdep"
   ]
  },
  {
   "cell_type": "code",
   "execution_count": 14,
   "metadata": {},
   "outputs": [
    {
     "data": {
      "text/html": [
       "<div>\n",
       "<style scoped>\n",
       "    .dataframe tbody tr th:only-of-type {\n",
       "        vertical-align: middle;\n",
       "    }\n",
       "\n",
       "    .dataframe tbody tr th {\n",
       "        vertical-align: top;\n",
       "    }\n",
       "\n",
       "    .dataframe thead th {\n",
       "        text-align: right;\n",
       "    }\n",
       "</style>\n",
       "<table border=\"1\" class=\"dataframe\">\n",
       "  <thead>\n",
       "    <tr style=\"text-align: right;\">\n",
       "      <th>deposit</th>\n",
       "      <th>no</th>\n",
       "      <th>yes</th>\n",
       "    </tr>\n",
       "    <tr>\n",
       "      <th>loan</th>\n",
       "      <th></th>\n",
       "      <th></th>\n",
       "    </tr>\n",
       "  </thead>\n",
       "  <tbody>\n",
       "    <tr>\n",
       "      <th>no</th>\n",
       "      <td>0.507467</td>\n",
       "      <td>0.492533</td>\n",
       "    </tr>\n",
       "    <tr>\n",
       "      <th>yes</th>\n",
       "      <td>0.656897</td>\n",
       "      <td>0.343103</td>\n",
       "    </tr>\n",
       "    <tr>\n",
       "      <th>All</th>\n",
       "      <td>0.526882</td>\n",
       "      <td>0.473118</td>\n",
       "    </tr>\n",
       "  </tbody>\n",
       "</table>\n",
       "</div>"
      ],
      "text/plain": [
       "deposit        no       yes\n",
       "loan                       \n",
       "no       0.507467  0.492533\n",
       "yes      0.656897  0.343103\n",
       "All      0.526882  0.473118"
      ]
     },
     "execution_count": 14,
     "metadata": {},
     "output_type": "execute_result"
    }
   ],
   "source": [
    "loanVSdep = pd.crosstab(index = data2['loan'],\n",
    "                      columns = data2['deposit'],\n",
    "                      margins = True,\n",
    "                      normalize = 'index')\n",
    "loanVSdep"
   ]
  },
  {
   "cell_type": "code",
   "execution_count": 15,
   "metadata": {
    "scrolled": true
   },
   "outputs": [
    {
     "data": {
      "text/plain": [
       "<AxesSubplot:xlabel='age', ylabel='balance'>"
      ]
     },
     "execution_count": 15,
     "metadata": {},
     "output_type": "execute_result"
    },
    {
     "data": {
      "image/png": "[encoded data removed]",
      "text/plain": [
       "<Figure size 432x288 with 1 Axes>"
      ]
     },
     "metadata": {
      "needs_background": "light"
     },
     "output_type": "display_data"
    }
   ],
   "source": [
    "sns.scatterplot(x='age',y='balance',data=data2,hue='balance')"
   ]
  },
  {
   "cell_type": "code",
   "execution_count": 16,
   "metadata": {},
   "outputs": [],
   "source": [
    "outcVscamp = pd.crosstab(index = data2['poutcome'],\n",
    "                      columns = data2['campaign'],\n",
    "                      margins = True,\n",
    "                      normalize = 'index')"
   ]
  },
  {
   "cell_type": "code",
   "execution_count": 17,
   "metadata": {},
   "outputs": [
    {
     "data": {
      "text/html": [
       "<div>\n",
       "<style scoped>\n",
       "    .dataframe tbody tr th:only-of-type {\n",
       "        vertical-align: middle;\n",
       "    }\n",
       "\n",
       "    .dataframe tbody tr th {\n",
       "        vertical-align: top;\n",
       "    }\n",
       "\n",
       "    .dataframe thead th {\n",
       "        text-align: right;\n",
       "    }\n",
       "</style>\n",
       "<table border=\"1\" class=\"dataframe\">\n",
       "  <thead>\n",
       "    <tr style=\"text-align: right;\">\n",
       "      <th>campaign</th>\n",
       "      <th>1</th>\n",
       "      <th>2</th>\n",
       "      <th>3</th>\n",
       "      <th>4</th>\n",
       "      <th>5</th>\n",
       "      <th>6</th>\n",
       "      <th>7</th>\n",
       "      <th>8</th>\n",
       "      <th>9</th>\n",
       "      <th>10</th>\n",
       "      <th>...</th>\n",
       "      <th>22</th>\n",
       "      <th>23</th>\n",
       "      <th>24</th>\n",
       "      <th>25</th>\n",
       "      <th>26</th>\n",
       "      <th>27</th>\n",
       "      <th>31</th>\n",
       "      <th>32</th>\n",
       "      <th>33</th>\n",
       "      <th>43</th>\n",
       "    </tr>\n",
       "    <tr>\n",
       "      <th>poutcome</th>\n",
       "      <th></th>\n",
       "      <th></th>\n",
       "      <th></th>\n",
       "      <th></th>\n",
       "      <th></th>\n",
       "      <th></th>\n",
       "      <th></th>\n",
       "      <th></th>\n",
       "      <th></th>\n",
       "      <th></th>\n",
       "      <th></th>\n",
       "      <th></th>\n",
       "      <th></th>\n",
       "      <th></th>\n",
       "      <th></th>\n",
       "      <th></th>\n",
       "      <th></th>\n",
       "      <th></th>\n",
       "      <th></th>\n",
       "      <th></th>\n",
       "      <th></th>\n",
       "    </tr>\n",
       "  </thead>\n",
       "  <tbody>\n",
       "    <tr>\n",
       "      <th>failure</th>\n",
       "      <td>0.534653</td>\n",
       "      <td>0.273267</td>\n",
       "      <td>0.099010</td>\n",
       "      <td>0.037624</td>\n",
       "      <td>0.029703</td>\n",
       "      <td>0.009901</td>\n",
       "      <td>0.013861</td>\n",
       "      <td>0.001980</td>\n",
       "      <td>0.000000</td>\n",
       "      <td>0.000000</td>\n",
       "      <td>...</td>\n",
       "      <td>0.000000</td>\n",
       "      <td>0.000000</td>\n",
       "      <td>0.000000</td>\n",
       "      <td>0.000000</td>\n",
       "      <td>0.000000</td>\n",
       "      <td>0.000000</td>\n",
       "      <td>0.000000</td>\n",
       "      <td>0.000000</td>\n",
       "      <td>0.000000</td>\n",
       "      <td>0.000000</td>\n",
       "    </tr>\n",
       "    <tr>\n",
       "      <th>other</th>\n",
       "      <td>0.440000</td>\n",
       "      <td>0.257778</td>\n",
       "      <td>0.133333</td>\n",
       "      <td>0.062222</td>\n",
       "      <td>0.035556</td>\n",
       "      <td>0.035556</td>\n",
       "      <td>0.004444</td>\n",
       "      <td>0.008889</td>\n",
       "      <td>0.022222</td>\n",
       "      <td>0.000000</td>\n",
       "      <td>...</td>\n",
       "      <td>0.000000</td>\n",
       "      <td>0.000000</td>\n",
       "      <td>0.000000</td>\n",
       "      <td>0.000000</td>\n",
       "      <td>0.000000</td>\n",
       "      <td>0.000000</td>\n",
       "      <td>0.000000</td>\n",
       "      <td>0.000000</td>\n",
       "      <td>0.000000</td>\n",
       "      <td>0.000000</td>\n",
       "    </tr>\n",
       "    <tr>\n",
       "      <th>success</th>\n",
       "      <td>0.570115</td>\n",
       "      <td>0.252874</td>\n",
       "      <td>0.108046</td>\n",
       "      <td>0.025287</td>\n",
       "      <td>0.025287</td>\n",
       "      <td>0.011494</td>\n",
       "      <td>0.002299</td>\n",
       "      <td>0.002299</td>\n",
       "      <td>0.000000</td>\n",
       "      <td>0.000000</td>\n",
       "      <td>...</td>\n",
       "      <td>0.000000</td>\n",
       "      <td>0.000000</td>\n",
       "      <td>0.000000</td>\n",
       "      <td>0.000000</td>\n",
       "      <td>0.000000</td>\n",
       "      <td>0.000000</td>\n",
       "      <td>0.000000</td>\n",
       "      <td>0.000000</td>\n",
       "      <td>0.000000</td>\n",
       "      <td>0.000000</td>\n",
       "    </tr>\n",
       "    <tr>\n",
       "      <th>unknown</th>\n",
       "      <td>0.391937</td>\n",
       "      <td>0.279479</td>\n",
       "      <td>0.126099</td>\n",
       "      <td>0.073659</td>\n",
       "      <td>0.037890</td>\n",
       "      <td>0.028190</td>\n",
       "      <td>0.013944</td>\n",
       "      <td>0.013034</td>\n",
       "      <td>0.006972</td>\n",
       "      <td>0.004547</td>\n",
       "      <td>...</td>\n",
       "      <td>0.000303</td>\n",
       "      <td>0.000303</td>\n",
       "      <td>0.000909</td>\n",
       "      <td>0.000303</td>\n",
       "      <td>0.000303</td>\n",
       "      <td>0.000303</td>\n",
       "      <td>0.000303</td>\n",
       "      <td>0.000606</td>\n",
       "      <td>0.000303</td>\n",
       "      <td>0.000303</td>\n",
       "    </tr>\n",
       "    <tr>\n",
       "      <th>All</th>\n",
       "      <td>0.427867</td>\n",
       "      <td>0.275090</td>\n",
       "      <td>0.121640</td>\n",
       "      <td>0.064292</td>\n",
       "      <td>0.035618</td>\n",
       "      <td>0.024866</td>\n",
       "      <td>0.012321</td>\n",
       "      <td>0.010529</td>\n",
       "      <td>0.006272</td>\n",
       "      <td>0.003360</td>\n",
       "      <td>...</td>\n",
       "      <td>0.000224</td>\n",
       "      <td>0.000224</td>\n",
       "      <td>0.000672</td>\n",
       "      <td>0.000224</td>\n",
       "      <td>0.000224</td>\n",
       "      <td>0.000224</td>\n",
       "      <td>0.000224</td>\n",
       "      <td>0.000448</td>\n",
       "      <td>0.000224</td>\n",
       "      <td>0.000224</td>\n",
       "    </tr>\n",
       "  </tbody>\n",
       "</table>\n",
       "<p>5 rows × 31 columns</p>\n",
       "</div>"
      ],
      "text/plain": [
       "campaign        1         2         3         4         5         6   \\\n",
       "poutcome                                                               \n",
       "failure   0.534653  0.273267  0.099010  0.037624  0.029703  0.009901   \n",
       "other     0.440000  0.257778  0.133333  0.062222  0.035556  0.035556   \n",
       "success   0.570115  0.252874  0.108046  0.025287  0.025287  0.011494   \n",
       "unknown   0.391937  0.279479  0.126099  0.073659  0.037890  0.028190   \n",
       "All       0.427867  0.275090  0.121640  0.064292  0.035618  0.024866   \n",
       "\n",
       "campaign        7         8         9         10  ...        22        23  \\\n",
       "poutcome                                          ...                       \n",
       "failure   0.013861  0.001980  0.000000  0.000000  ...  0.000000  0.000000   \n",
       "other     0.004444  0.008889  0.022222  0.000000  ...  0.000000  0.000000   \n",
       "success   0.002299  0.002299  0.000000  0.000000  ...  0.000000  0.000000   \n",
       "unknown   0.013944  0.013034  0.006972  0.004547  ...  0.000303  0.000303   \n",
       "All       0.012321  0.010529  0.006272  0.003360  ...  0.000224  0.000224   \n",
       "\n",
       "campaign        24        25        26        27        31        32  \\\n",
       "poutcome                                                               \n",
       "failure   0.000000  0.000000  0.000000  0.000000  0.000000  0.000000   \n",
       "other     0.000000  0.000000  0.000000  0.000000  0.000000  0.000000   \n",
       "success   0.000000  0.000000  0.000000  0.000000  0.000000  0.000000   \n",
       "unknown   0.000909  0.000303  0.000303  0.000303  0.000303  0.000606   \n",
       "All       0.000672  0.000224  0.000224  0.000224  0.000224  0.000448   \n",
       "\n",
       "campaign        33        43  \n",
       "poutcome                      \n",
       "failure   0.000000  0.000000  \n",
       "other     0.000000  0.000000  \n",
       "success   0.000000  0.000000  \n",
       "unknown   0.000303  0.000303  \n",
       "All       0.000224  0.000224  \n",
       "\n",
       "[5 rows x 31 columns]"
      ]
     },
     "execution_count": 17,
     "metadata": {},
     "output_type": "execute_result"
    }
   ],
   "source": [
    "outcVscamp"
   ]
  }
 ],
 "metadata": {
  "kernelspec": {
   "display_name": "Python 3",
   "language": "python",
   "name": "python3"
  },
  "language_info": {
   "codemirror_mode": {
    "name": "ipython",
    "version": 3
   },
   "file_extension": ".py",
   "mimetype": "text/x-python",
   "name": "python",
   "nbconvert_exporter": "python",
   "pygments_lexer": "ipython3",
   "version": "3.8.10"
  }
 },
 "nbformat": 4,
 "nbformat_minor": 4
}
