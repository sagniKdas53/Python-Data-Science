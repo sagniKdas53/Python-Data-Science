{
 "cells": [
  {
   "cell_type": "code",
   "execution_count": 1,
   "metadata": {},
   "outputs": [
    {
     "name": "stdout",
     "output_type": "stream",
     "text": [
      "Hello World\n"
     ]
    }
   ],
   "source": [
    "#include <iostream>\n",
    "using namespace std;\n",
    "\n",
    "cout << \"Hello World\" << endl;"
   ]
  },
  {
   "cell_type": "code",
   "execution_count": 2,
   "metadata": {},
   "outputs": [],
   "source": [
    "class B\n",
    "{\n",
    "public:\n",
    "    B() { cout << \"1\"\n",
    "               << \" \"; }\n",
    "    B(int _x)\n",
    "    {\n",
    "        cout << \"11\"\n",
    "             << \" \";\n",
    "    }\n",
    "};\n",
    "class D1 : virtual public B\n",
    "{\n",
    "public:\n",
    "    D1() { cout << \"2\"\n",
    "                << \" \"; }\n",
    "    D1(int _x) : B(_x)\n",
    "    {\n",
    "        cout << \"22\"\n",
    "             << \" \";\n",
    "    }\n",
    "};\n",
    "class D2 : virtual public B\n",
    "{\n",
    "public:\n",
    "    D2() { cout << \"3\"\n",
    "                << \" \"; }\n",
    "    D2(int _x) : B(_x) { cout << \"33\"\n",
    "                              << \" \"; }\n",
    "};\n",
    "class DD : public D1, public D2\n",
    "{\n",
    "public:\n",
    "    DD() { cout << \"4\"\n",
    "                << \" \"; }\n",
    "    DD(int _x) : D1(_x), D2(_x)\n",
    "    {\n",
    "        cout << \"44\"\n",
    "             << \" \";\n",
    "    }\n",
    "};"
   ]
  },
  {
   "cell_type": "code",
   "execution_count": 3,
   "metadata": {},
   "outputs": [
    {
     "name": "stdout",
     "output_type": "stream",
     "text": [
      "1 22 33 44 "
     ]
    }
   ],
   "source": [
    " DD d(5);"
   ]
  },
  {
   "cell_type": "code",
   "execution_count": 4,
   "metadata": {},
   "outputs": [],
   "source": [
    "class funcs{\n",
    "    public:\n",
    "int pow2(int i)\n",
    "{\n",
    "    int ree = 2;\n",
    "    for (int o = 1; o < i; o++)\n",
    "        ree *= 2;\n",
    "    return ree;\n",
    "}\n",
    "\n",
    "unsigned int to_dec(int *arr)\n",
    "{\n",
    "    unsigned int res = 0;\n",
    "    for (int i = 0; i < 32; i++)\n",
    "    {\n",
    "        if (arr[i] == 1)\n",
    "        {\n",
    "            //cout << i << endl;\n",
    "            res += pow2(31 - i);\n",
    "        }\n",
    "    }\n",
    "    if (arr[31] == 1)\n",
    "        return res - 1; // this is to adjust for 0\n",
    "    else\n",
    "        return res;\n",
    "}\n",
    "\n",
    "int *no_rev_bin(int n)\n",
    "{\n",
    "    int hold = n, d = 31; //res;\n",
    "    int *arr = (int *)calloc(32, sizeof(int));\n",
    "    for (int i = 0; n > 0; i++)\n",
    "    {\n",
    "        //res = (hold >> i) & 1;\n",
    "        //res = res & 1;\n",
    "        n = n >> 1;\n",
    "        //cout << res << endl;\n",
    "        arr[d--] = (hold >> i) & 1;\n",
    "    }\n",
    "    return arr;\n",
    "}};"
   ]
  },
  {
   "cell_type": "code",
   "execution_count": 5,
   "metadata": {},
   "outputs": [
    {
     "name": "stdout",
     "output_type": "stream",
     "text": [
      "2345\n",
      "0000 0000 0000 0000 0000 1001 0010 1001\n",
      "2345\n"
     ]
    }
   ],
   "source": [
    "int a, bin_a[32];\n",
    "int arr[] = {1, 0, 0, 0, 0, 0, 0, 0, 0,\n",
    "                 0, 0, 0, 0, 0, 0, 0, 0, 0,\n",
    "                 0, 0, 0, 0, 0, 0, 0, 0, 0,\n",
    "                 0, 0, 0, 0, 1};\n",
    "funcs ffs;\n",
    "cin >> a;\n",
    "int *res = ffs.no_rev_bin(a);\n",
    "for (int i = 0; i < 32; i++)\n",
    "{\n",
    "    if (i%4 == 0 && i!=0)\n",
    "        cout << \" \";\n",
    "    cout << res[i];\n",
    "        \n",
    "}\n",
    "cout << endl;\n",
    "    //cout << pow2(3);\n",
    "int ress = ffs.to_dec(res);\n",
    "cout << ress << endl;"
   ]
  },
  {
   "cell_type": "code",
   "execution_count": 6,
   "metadata": {},
   "outputs": [],
   "source": [
    "#include <exception>"
   ]
  },
  {
   "cell_type": "code",
   "execution_count": 7,
   "metadata": {},
   "outputs": [],
   "source": [
    "class MyException : public exception {};\n",
    "class MyClass {};"
   ]
  },
  {
   "cell_type": "code",
   "execution_count": 8,
   "metadata": {},
   "outputs": [
    {
     "name": "stderr",
     "output_type": "stream",
     "text": [
      "\u001b[1minput_line_15:3:14: \u001b[0m\u001b[0;1;35mwarning: \u001b[0m\u001b[1mdivision by zero is undefined [-Wdivision-by-zero]\u001b[0m\n",
      "    int d = 1/0;\n",
      "\u001b[0;1;32m             ^~\n",
      "\u001b[0m"
     ]
    }
   ],
   "source": [
    "try{\n",
    "    int d = 1/0;\n",
    "}catch(...){\n",
    "    cout << \"endl\";\n",
    "}"
   ]
  },
  {
   "cell_type": "code",
   "execution_count": 9,
   "metadata": {},
   "outputs": [
    {
     "name": "stdout",
     "output_type": "stream",
     "text": [
      "8 8"
     ]
    }
   ],
   "source": [
    "int s =8;\n",
    "int &d = s;\n",
    "cout << s << \" \" << d;"
   ]
  },
  {
   "cell_type": "code",
   "execution_count": 13,
   "metadata": {},
   "outputs": [
    {
     "name": "stdout",
     "output_type": "stream",
     "text": [
      "0x7f5baf0ba178\n",
      "8"
     ]
    }
   ],
   "source": [
    "int *f = &s;\n",
    "cout << f <<endl << *f;"
   ]
  },
  {
   "cell_type": "code",
   "execution_count": 17,
   "metadata": {},
   "outputs": [
    {
     "name": "stdout",
     "output_type": "stream",
     "text": [
      "0x7f5baf0ba178\n"
     ]
    }
   ],
   "source": [
    "cout << &d << endl; "
   ]
  },
  {
   "cell_type": "code",
   "execution_count": 19,
   "metadata": {},
   "outputs": [
    {
     "name": "stdout",
     "output_type": "stream",
     "text": [
      "0x7f5baf0ba178\n"
     ]
    }
   ],
   "source": [
    "cout << &s << endl;"
   ]
  },
  {
   "cell_type": "code",
   "execution_count": 31,
   "metadata": {},
   "outputs": [],
   "source": [
    "double di,*du;"
   ]
  },
  {
   "cell_type": "code",
   "execution_count": 23,
   "metadata": {},
   "outputs": [],
   "source": [
    "#include <typeinfo>"
   ]
  },
  {
   "cell_type": "code",
   "execution_count": 24,
   "metadata": {},
   "outputs": [
    {
     "data": {
      "text/plain": [
       "\"i\""
      ]
     },
     "execution_count": 24,
     "metadata": {},
     "output_type": "execute_result"
    }
   ],
   "source": [
    "typeid(s).name()"
   ]
  },
  {
   "cell_type": "code",
   "execution_count": 25,
   "metadata": {},
   "outputs": [
    {
     "data": {
      "text/plain": [
       "\"i\""
      ]
     },
     "execution_count": 25,
     "metadata": {},
     "output_type": "execute_result"
    }
   ],
   "source": [
    "typeid(d).name()"
   ]
  },
  {
   "cell_type": "code",
   "execution_count": 26,
   "metadata": {},
   "outputs": [
    {
     "data": {
      "text/plain": [
       "\"Pi\""
      ]
     },
     "execution_count": 26,
     "metadata": {},
     "output_type": "execute_result"
    }
   ],
   "source": [
    "typeid(f).name()"
   ]
  },
  {
   "cell_type": "code",
   "execution_count": 32,
   "metadata": {},
   "outputs": [
    {
     "data": {
      "text/plain": [
       "\"d\""
      ]
     },
     "execution_count": 32,
     "metadata": {},
     "output_type": "execute_result"
    }
   ],
   "source": [
    "typeid(di).name()"
   ]
  },
  {
   "cell_type": "code",
   "execution_count": 33,
   "metadata": {},
   "outputs": [
    {
     "data": {
      "text/plain": [
       "\"Pd\""
      ]
     },
     "execution_count": 33,
     "metadata": {},
     "output_type": "execute_result"
    }
   ],
   "source": [
    "typeid(du).name()"
   ]
  }
 ],
 "metadata": {
  "kernelspec": {
   "display_name": "C++14",
   "language": "C++14",
   "name": "xcpp14"
  },
  "language_info": {
   "codemirror_mode": "text/x-c++src",
   "file_extension": ".cpp",
   "mimetype": "text/x-c++src",
   "name": "c++",
   "version": "14"
  }
 },
 "nbformat": 4,
 "nbformat_minor": 4
}
